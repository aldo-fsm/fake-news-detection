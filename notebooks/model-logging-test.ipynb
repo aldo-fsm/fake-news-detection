{
 "cells": [
  {
   "cell_type": "code",
   "execution_count": 1,
   "metadata": {
    "execution": {
     "iopub.execute_input": "2020-12-19T15:27:55.549953Z",
     "iopub.status.busy": "2020-12-19T15:27:55.549481Z",
     "iopub.status.idle": "2020-12-19T15:27:55.555212Z",
     "shell.execute_reply": "2020-12-19T15:27:55.554238Z",
     "shell.execute_reply.started": "2020-12-19T15:27:55.549832Z"
    }
   },
   "outputs": [],
   "source": [
    "import os\n",
    "os.chdir('..')"
   ]
  },
  {
   "cell_type": "code",
   "execution_count": 2,
   "metadata": {
    "execution": {
     "iopub.execute_input": "2020-12-19T15:27:55.816381Z",
     "iopub.status.busy": "2020-12-19T15:27:55.815189Z",
     "iopub.status.idle": "2020-12-19T15:27:57.254824Z",
     "shell.execute_reply": "2020-12-19T15:27:57.253763Z",
     "shell.execute_reply.started": "2020-12-19T15:27:55.815933Z"
    }
   },
   "outputs": [],
   "source": [
    "import pandas as pd\n",
    "import numpy as np\n",
    "from matplotlib import pyplot as plt\n",
    "import re\n",
    "from sklearn.model_selection import train_test_split\n",
    "from datasets import fake_br_corpus"
   ]
  },
  {
   "cell_type": "code",
   "execution_count": 3,
   "metadata": {
    "execution": {
     "iopub.execute_input": "2020-12-19T15:27:57.257536Z",
     "iopub.status.busy": "2020-12-19T15:27:57.257264Z",
     "iopub.status.idle": "2020-12-19T15:27:57.861798Z",
     "shell.execute_reply": "2020-12-19T15:27:57.859851Z",
     "shell.execute_reply.started": "2020-12-19T15:27:57.257503Z"
    }
   },
   "outputs": [],
   "source": [
    "import mlflow\n",
    "# mlflow.sklearn.autolog()"
   ]
  },
  {
   "cell_type": "code",
   "execution_count": 4,
   "metadata": {
    "execution": {
     "iopub.execute_input": "2020-12-19T15:27:57.863975Z",
     "iopub.status.busy": "2020-12-19T15:27:57.863705Z",
     "iopub.status.idle": "2020-12-19T15:27:58.239762Z",
     "shell.execute_reply": "2020-12-19T15:27:58.238247Z",
     "shell.execute_reply.started": "2020-12-19T15:27:57.863943Z"
    }
   },
   "outputs": [
    {
     "name": "stderr",
     "output_type": "stream",
     "text": [
      "/home/afsm/git/tmp/fake-news-detection/.venv/lib/python3.7/site-packages/ipykernel/ipkernel.py:287: DeprecationWarning: `should_run_async` will not call `transform_cell` automatically in the future. Please pass the result to `transformed_cell` argument and any exception that happen during thetransform in `preprocessing_exc_tuple` in IPython 7.17 and above.\n",
      "  and should_run_async(code)\n"
     ]
    }
   ],
   "source": [
    "dataset = fake_br_corpus.loadTrain()"
   ]
  },
  {
   "cell_type": "code",
   "execution_count": 5,
   "metadata": {
    "execution": {
     "iopub.execute_input": "2020-12-19T15:27:58.243109Z",
     "iopub.status.busy": "2020-12-19T15:27:58.242640Z",
     "iopub.status.idle": "2020-12-19T15:27:58.254356Z",
     "shell.execute_reply": "2020-12-19T15:27:58.253124Z",
     "shell.execute_reply.started": "2020-12-19T15:27:58.243074Z"
    }
   },
   "outputs": [
    {
     "data": {
      "text/plain": [
       "true    3073\n",
       "fake    3047\n",
       "Name: label, dtype: int64"
      ]
     },
     "execution_count": 5,
     "metadata": {},
     "output_type": "execute_result"
    }
   ],
   "source": [
    "dataset.label.value_counts()"
   ]
  },
  {
   "cell_type": "code",
   "execution_count": 6,
   "metadata": {
    "execution": {
     "iopub.execute_input": "2020-12-19T15:27:58.255866Z",
     "iopub.status.busy": "2020-12-19T15:27:58.255579Z",
     "iopub.status.idle": "2020-12-19T15:27:58.374830Z",
     "shell.execute_reply": "2020-12-19T15:27:58.373976Z",
     "shell.execute_reply.started": "2020-12-19T15:27:58.255824Z"
    }
   },
   "outputs": [
    {
     "name": "stdout",
     "output_type": "stream",
     "text": [
      "======== politica ========\n",
      "true    1767\n",
      "fake    1759\n",
      "Name: label, dtype: int64\n",
      "======== tv_celebridades ========\n",
      "true    663\n",
      "fake    659\n",
      "Name: label, dtype: int64\n",
      "======== sociedade_cotidiano ========\n",
      "true    552\n",
      "fake    541\n",
      "Name: label, dtype: int64\n",
      "======== economia ========\n",
      "true    19\n",
      "fake    19\n",
      "Name: label, dtype: int64\n",
      "======== ciencia_tecnologia ========\n",
      "true    50\n",
      "fake    48\n",
      "Name: label, dtype: int64\n",
      "======== religiao ========\n",
      "true    22\n",
      "fake    21\n",
      "Name: label, dtype: int64\n"
     ]
    }
   ],
   "source": [
    "for category in dataset.category.unique():\n",
    "    print('========', category, '========')\n",
    "    print(dataset[dataset.category == category].label.value_counts())"
   ]
  },
  {
   "cell_type": "code",
   "execution_count": 7,
   "metadata": {
    "execution": {
     "iopub.execute_input": "2020-12-19T15:27:58.376759Z",
     "iopub.status.busy": "2020-12-19T15:27:58.376344Z",
     "iopub.status.idle": "2020-12-19T15:27:58.396699Z",
     "shell.execute_reply": "2020-12-19T15:27:58.395780Z",
     "shell.execute_reply.started": "2020-12-19T15:27:58.376648Z"
    }
   },
   "outputs": [],
   "source": [
    "train, test = train_test_split(dataset, test_size=0.25, stratify=dataset.label)"
   ]
  },
  {
   "cell_type": "code",
   "execution_count": 8,
   "metadata": {
    "execution": {
     "iopub.execute_input": "2020-12-19T15:27:58.398300Z",
     "iopub.status.busy": "2020-12-19T15:27:58.397756Z",
     "iopub.status.idle": "2020-12-19T15:27:58.465378Z",
     "shell.execute_reply": "2020-12-19T15:27:58.464457Z",
     "shell.execute_reply.started": "2020-12-19T15:27:58.398255Z"
    }
   },
   "outputs": [
    {
     "name": "stderr",
     "output_type": "stream",
     "text": [
      "/home/afsm/git/tmp/fake-news-detection/.venv/lib/python3.7/site-packages/ipykernel/ipkernel.py:287: DeprecationWarning: `should_run_async` will not call `transform_cell` automatically in the future. Please pass the result to `transformed_cell` argument and any exception that happen during thetransform in `preprocessing_exc_tuple` in IPython 7.17 and above.\n",
      "  and should_run_async(code)\n"
     ]
    },
    {
     "data": {
      "text/plain": [
       "true    2305\n",
       "fake    2285\n",
       "Name: label, dtype: int64"
      ]
     },
     "execution_count": 8,
     "metadata": {},
     "output_type": "execute_result"
    }
   ],
   "source": [
    "train.label.value_counts()"
   ]
  },
  {
   "cell_type": "code",
   "execution_count": 9,
   "metadata": {
    "execution": {
     "iopub.execute_input": "2020-12-19T15:27:58.467587Z",
     "iopub.status.busy": "2020-12-19T15:27:58.467304Z",
     "iopub.status.idle": "2020-12-19T15:27:58.474934Z",
     "shell.execute_reply": "2020-12-19T15:27:58.474154Z",
     "shell.execute_reply.started": "2020-12-19T15:27:58.467537Z"
    }
   },
   "outputs": [
    {
     "data": {
      "text/plain": [
       "true    768\n",
       "fake    762\n",
       "Name: label, dtype: int64"
      ]
     },
     "execution_count": 9,
     "metadata": {},
     "output_type": "execute_result"
    }
   ],
   "source": [
    "test.label.value_counts()"
   ]
  },
  {
   "cell_type": "code",
   "execution_count": 10,
   "metadata": {
    "execution": {
     "iopub.execute_input": "2020-12-19T15:27:58.477150Z",
     "iopub.status.busy": "2020-12-19T15:27:58.476366Z",
     "iopub.status.idle": "2020-12-19T15:27:58.488134Z",
     "shell.execute_reply": "2020-12-19T15:27:58.487126Z",
     "shell.execute_reply.started": "2020-12-19T15:27:58.477101Z"
    }
   },
   "outputs": [
    {
     "data": {
      "text/plain": [
       "politica               3526\n",
       "tv_celebridades        1322\n",
       "sociedade_cotidiano    1093\n",
       "ciencia_tecnologia       98\n",
       "religiao                 43\n",
       "economia                 38\n",
       "Name: category, dtype: int64"
      ]
     },
     "execution_count": 10,
     "metadata": {},
     "output_type": "execute_result"
    }
   ],
   "source": [
    "dataset.category.value_counts()"
   ]
  },
  {
   "cell_type": "markdown",
   "metadata": {},
   "source": [
    "# Preprocessing"
   ]
  },
  {
   "cell_type": "code",
   "execution_count": 11,
   "metadata": {
    "execution": {
     "iopub.execute_input": "2020-12-19T15:27:58.494959Z",
     "iopub.status.busy": "2020-12-19T15:27:58.494623Z",
     "iopub.status.idle": "2020-12-19T15:27:58.729009Z",
     "shell.execute_reply": "2020-12-19T15:27:58.727627Z",
     "shell.execute_reply.started": "2020-12-19T15:27:58.494919Z"
    }
   },
   "outputs": [],
   "source": [
    "import spacy\n",
    "from spacy.lang.pt import STOP_WORDS"
   ]
  },
  {
   "cell_type": "code",
   "execution_count": 12,
   "metadata": {
    "execution": {
     "iopub.execute_input": "2020-12-19T15:27:58.731172Z",
     "iopub.status.busy": "2020-12-19T15:27:58.730573Z",
     "iopub.status.idle": "2020-12-19T15:28:01.678942Z",
     "shell.execute_reply": "2020-12-19T15:28:01.677833Z",
     "shell.execute_reply.started": "2020-12-19T15:27:58.731121Z"
    }
   },
   "outputs": [
    {
     "name": "stderr",
     "output_type": "stream",
     "text": [
      "/home/afsm/git/tmp/fake-news-detection/.venv/lib/python3.7/site-packages/ipykernel/ipkernel.py:287: DeprecationWarning: `should_run_async` will not call `transform_cell` automatically in the future. Please pass the result to `transformed_cell` argument and any exception that happen during thetransform in `preprocessing_exc_tuple` in IPython 7.17 and above.\n",
      "  and should_run_async(code)\n"
     ]
    }
   ],
   "source": [
    "nlp = spacy.load('pt')\n",
    "def lemmatize(text):\n",
    "    global tokens\n",
    "    tokens = nlp(text)\n",
    "    lemmas = [token.lemma_ for token in tokens]\n",
    "    return ' '.join(lemmas)\n",
    "\n",
    "def cleanText(text):\n",
    "    text = re.sub(r'[0-9\"\\(\\)\\,\\:]+', ' ', text)\n",
    "    text = re.sub(r'[\\n ]+', ' ', text)\n",
    "    text = text.lower()\n",
    "    return text\n",
    "\n",
    "def preprocess(text):\n",
    "#     text = lemmatize(text)\n",
    "    text = cleanText(text)\n",
    "    return text"
   ]
  },
  {
   "cell_type": "markdown",
   "metadata": {},
   "source": [
    "# Feature extraction"
   ]
  },
  {
   "cell_type": "code",
   "execution_count": 13,
   "metadata": {
    "execution": {
     "iopub.execute_input": "2020-12-19T15:28:01.683704Z",
     "iopub.status.busy": "2020-12-19T15:28:01.683446Z",
     "iopub.status.idle": "2020-12-19T15:28:01.693125Z",
     "shell.execute_reply": "2020-12-19T15:28:01.692301Z",
     "shell.execute_reply.started": "2020-12-19T15:28:01.683676Z"
    }
   },
   "outputs": [],
   "source": [
    "from sklearn.feature_extraction.text import TfidfVectorizer"
   ]
  },
  {
   "cell_type": "code",
   "execution_count": 14,
   "metadata": {
    "execution": {
     "iopub.execute_input": "2020-12-19T15:28:01.695207Z",
     "iopub.status.busy": "2020-12-19T15:28:01.694866Z",
     "iopub.status.idle": "2020-12-19T15:28:01.708889Z",
     "shell.execute_reply": "2020-12-19T15:28:01.707715Z",
     "shell.execute_reply.started": "2020-12-19T15:28:01.695166Z"
    }
   },
   "outputs": [],
   "source": [
    "tfidf = TfidfVectorizer(\n",
    "    preprocessor=preprocess,\n",
    "    ngram_range=(1,3),\n",
    "    max_features=1000\n",
    ")"
   ]
  },
  {
   "cell_type": "code",
   "execution_count": 15,
   "metadata": {
    "execution": {
     "iopub.execute_input": "2020-12-19T15:28:01.711237Z",
     "iopub.status.busy": "2020-12-19T15:28:01.710652Z",
     "iopub.status.idle": "2020-12-19T15:28:28.656440Z",
     "shell.execute_reply": "2020-12-19T15:28:28.655750Z",
     "shell.execute_reply.started": "2020-12-19T15:28:01.711187Z"
    }
   },
   "outputs": [],
   "source": [
    "X = tfidf.fit_transform(train.text)"
   ]
  },
  {
   "cell_type": "markdown",
   "metadata": {},
   "source": [
    "# Classification"
   ]
  },
  {
   "cell_type": "code",
   "execution_count": 16,
   "metadata": {
    "execution": {
     "iopub.execute_input": "2020-12-19T15:28:28.657717Z",
     "iopub.status.busy": "2020-12-19T15:28:28.657394Z",
     "iopub.status.idle": "2020-12-19T15:28:28.693257Z",
     "shell.execute_reply": "2020-12-19T15:28:28.692588Z",
     "shell.execute_reply.started": "2020-12-19T15:28:28.657669Z"
    }
   },
   "outputs": [],
   "source": [
    "from sklearn.svm import SVC\n",
    "from sklearn.tree import DecisionTreeClassifier"
   ]
  },
  {
   "cell_type": "code",
   "execution_count": 17,
   "metadata": {
    "execution": {
     "iopub.execute_input": "2020-12-19T15:28:28.698767Z",
     "iopub.status.busy": "2020-12-19T15:28:28.698364Z",
     "iopub.status.idle": "2020-12-19T15:28:38.493737Z",
     "shell.execute_reply": "2020-12-19T15:28:38.491334Z",
     "shell.execute_reply.started": "2020-12-19T15:28:28.698715Z"
    }
   },
   "outputs": [
    {
     "name": "stderr",
     "output_type": "stream",
     "text": [
      "/home/afsm/git/tmp/fake-news-detection/.venv/lib/python3.7/site-packages/ipykernel/ipkernel.py:287: DeprecationWarning: `should_run_async` will not call `transform_cell` automatically in the future. Please pass the result to `transformed_cell` argument and any exception that happen during thetransform in `preprocessing_exc_tuple` in IPython 7.17 and above.\n",
      "  and should_run_async(code)\n"
     ]
    },
    {
     "data": {
      "text/plain": [
       "SVC()"
      ]
     },
     "execution_count": 17,
     "metadata": {},
     "output_type": "execute_result"
    }
   ],
   "source": [
    "clf1 = SVC()\n",
    "clf1.fit(X, train.label)"
   ]
  },
  {
   "cell_type": "code",
   "execution_count": 18,
   "metadata": {
    "execution": {
     "iopub.execute_input": "2020-12-19T15:28:38.498405Z",
     "iopub.status.busy": "2020-12-19T15:28:38.497122Z",
     "iopub.status.idle": "2020-12-19T15:28:41.870158Z",
     "shell.execute_reply": "2020-12-19T15:28:41.869219Z",
     "shell.execute_reply.started": "2020-12-19T15:28:38.498318Z"
    }
   },
   "outputs": [
    {
     "data": {
      "text/plain": [
       "DecisionTreeClassifier()"
      ]
     },
     "execution_count": 18,
     "metadata": {},
     "output_type": "execute_result"
    }
   ],
   "source": [
    "clf2 = DecisionTreeClassifier()\n",
    "clf2.fit(X, train.label)"
   ]
  },
  {
   "cell_type": "code",
   "execution_count": 19,
   "metadata": {
    "execution": {
     "iopub.execute_input": "2020-12-19T15:28:41.871766Z",
     "iopub.status.busy": "2020-12-19T15:28:41.871379Z",
     "iopub.status.idle": "2020-12-19T15:28:46.498181Z",
     "shell.execute_reply": "2020-12-19T15:28:46.497515Z",
     "shell.execute_reply.started": "2020-12-19T15:28:41.871714Z"
    }
   },
   "outputs": [
    {
     "name": "stderr",
     "output_type": "stream",
     "text": [
      "/home/afsm/git/tmp/fake-news-detection/.venv/lib/python3.7/site-packages/ipykernel/ipkernel.py:287: DeprecationWarning: `should_run_async` will not call `transform_cell` automatically in the future. Please pass the result to `transformed_cell` argument and any exception that happen during thetransform in `preprocessing_exc_tuple` in IPython 7.17 and above.\n",
      "  and should_run_async(code)\n"
     ]
    }
   ],
   "source": [
    "X_test = tfidf.transform(test.text)"
   ]
  },
  {
   "cell_type": "code",
   "execution_count": 23,
   "metadata": {
    "execution": {
     "iopub.execute_input": "2020-12-19T15:34:38.954963Z",
     "iopub.status.busy": "2020-12-19T15:34:38.954172Z",
     "iopub.status.idle": "2020-12-19T15:34:38.982771Z",
     "shell.execute_reply": "2020-12-19T15:34:38.979698Z",
     "shell.execute_reply.started": "2020-12-19T15:34:38.954873Z"
    }
   },
   "outputs": [
    {
     "name": "stderr",
     "output_type": "stream",
     "text": [
      "/home/afsm/git/tmp/fake-news-detection/.venv/lib/python3.7/site-packages/ipykernel/ipkernel.py:287: DeprecationWarning: `should_run_async` will not call `transform_cell` automatically in the future. Please pass the result to `transformed_cell` argument and any exception that happen during thetransform in `preprocessing_exc_tuple` in IPython 7.17 and above.\n",
      "  and should_run_async(code)\n"
     ]
    }
   ],
   "source": [
    "from sklearn.metrics import classification_report, accuracy_score\n",
    "from sklearn.pipeline import make_pipeline\n",
    "def evaluate(clf, X_test, ytrue):\n",
    "    ypred = clf.predict(X_test)\n",
    "    accuracy = accuracy_score(ytrue, ypred)\n",
    "    estimator_class = str(type(clf)).split(\"'\")[-2]\n",
    "    estimator_name = estimator_class.split('.')[-1]\n",
    "    print(classification_report(ytrue, ypred))\n",
    "    print('accuracy:', accuracy)\n",
    "    with mlflow.start_run() as run:\n",
    "        mlflow.log_params(clf.get_params())\n",
    "        mlflow.log_metric('validation_accuracy_score', accuracy)\n",
    "        mlflow.set_tags(dict(estimator_class=estimator_class, estimator_name=estimator_name))\n",
    "        mlflow.sklearn.log_model(\n",
    "            make_pipeline(tfidf, clf),\n",
    "            'model'\n",
    "        )\n",
    "    return ypred"
   ]
  },
  {
   "cell_type": "code",
   "execution_count": 24,
   "metadata": {
    "execution": {
     "iopub.execute_input": "2020-12-19T15:34:44.759481Z",
     "iopub.status.busy": "2020-12-19T15:34:44.748390Z",
     "iopub.status.idle": "2020-12-19T15:35:03.714609Z",
     "shell.execute_reply": "2020-12-19T15:35:03.712858Z",
     "shell.execute_reply.started": "2020-12-19T15:34:44.759098Z"
    }
   },
   "outputs": [
    {
     "name": "stdout",
     "output_type": "stream",
     "text": [
      "              precision    recall  f1-score   support\n",
      "\n",
      "        fake       0.96      0.96      0.96       762\n",
      "        true       0.96      0.96      0.96       768\n",
      "\n",
      "    accuracy                           0.96      1530\n",
      "   macro avg       0.96      0.96      0.96      1530\n",
      "weighted avg       0.96      0.96      0.96      1530\n",
      "\n",
      "accuracy: 0.9607843137254902\n"
     ]
    }
   ],
   "source": [
    "ypred1 = evaluate(clf1, X_test, test.label)"
   ]
  },
  {
   "cell_type": "code",
   "execution_count": 25,
   "metadata": {
    "execution": {
     "iopub.execute_input": "2020-12-19T15:35:03.719040Z",
     "iopub.status.busy": "2020-12-19T15:35:03.718578Z",
     "iopub.status.idle": "2020-12-19T15:35:21.591799Z",
     "shell.execute_reply": "2020-12-19T15:35:21.589458Z",
     "shell.execute_reply.started": "2020-12-19T15:35:03.718969Z"
    }
   },
   "outputs": [
    {
     "name": "stdout",
     "output_type": "stream",
     "text": [
      "              precision    recall  f1-score   support\n",
      "\n",
      "        fake       0.91      0.91      0.91       762\n",
      "        true       0.91      0.91      0.91       768\n",
      "\n",
      "    accuracy                           0.91      1530\n",
      "   macro avg       0.91      0.91      0.91      1530\n",
      "weighted avg       0.91      0.91      0.91      1530\n",
      "\n",
      "accuracy: 0.9065359477124183\n"
     ]
    }
   ],
   "source": [
    "ypred2 = evaluate(clf2, X_test, test.label)"
   ]
  },
  {
   "cell_type": "code",
   "execution_count": 25,
   "metadata": {
    "execution": {
     "iopub.execute_input": "2020-12-13T22:14:59.472184Z",
     "iopub.status.busy": "2020-12-13T22:14:59.470552Z",
     "iopub.status.idle": "2020-12-13T22:14:59.508131Z",
     "shell.execute_reply": "2020-12-13T22:14:59.500361Z",
     "shell.execute_reply.started": "2020-12-13T22:14:59.471562Z"
    }
   },
   "outputs": [
    {
     "data": {
      "text/plain": [
       "'sklearn.svm._classes.SVC'"
      ]
     },
     "execution_count": 25,
     "metadata": {},
     "output_type": "execute_result"
    }
   ],
   "source": [
    "str(type(clf1)).split(\"'\")[-2]"
   ]
  },
  {
   "cell_type": "code",
   "execution_count": 26,
   "metadata": {
    "execution": {
     "iopub.execute_input": "2020-12-13T22:14:59.510969Z",
     "iopub.status.busy": "2020-12-13T22:14:59.510077Z",
     "iopub.status.idle": "2020-12-13T22:14:59.547261Z",
     "shell.execute_reply": "2020-12-13T22:14:59.542979Z",
     "shell.execute_reply.started": "2020-12-13T22:14:59.510905Z"
    }
   },
   "outputs": [],
   "source": [
    "run = mlflow.get_run('b5a7d0a28ce84252be4af27a433955c9')"
   ]
  },
  {
   "cell_type": "code",
   "execution_count": 27,
   "metadata": {
    "execution": {
     "iopub.execute_input": "2020-12-13T22:14:59.549531Z",
     "iopub.status.busy": "2020-12-13T22:14:59.548866Z",
     "iopub.status.idle": "2020-12-13T22:14:59.579030Z",
     "shell.execute_reply": "2020-12-13T22:14:59.576081Z",
     "shell.execute_reply.started": "2020-12-13T22:14:59.549475Z"
    }
   },
   "outputs": [],
   "source": [
    "mlflow.log_metric('validation_accuracy', 0.9)"
   ]
  },
  {
   "cell_type": "code",
   "execution_count": 38,
   "metadata": {},
   "outputs": [],
   "source": [
    "mlflow.sklearn.log_model(clf1,'models')"
   ]
  },
  {
   "cell_type": "code",
   "execution_count": 39,
   "metadata": {},
   "outputs": [
    {
     "name": "stderr",
     "output_type": "stream",
     "text": [
      "/home/afsm/git/tmp/fake-news-detection/.venv/lib/python3.7/site-packages/ipykernel/ipkernel.py:287: DeprecationWarning: `should_run_async` will not call `transform_cell` automatically in the future. Please pass the result to `transformed_cell` argument and any exception that happen during thetransform in `preprocessing_exc_tuple` in IPython 7.17 and above.\n",
      "  and should_run_async(code)\n"
     ]
    }
   ],
   "source": [
    "mlflow.end_run()"
   ]
  },
  {
   "cell_type": "code",
   "execution_count": 34,
   "metadata": {
    "execution": {
     "iopub.execute_input": "2020-12-19T15:50:29.255842Z",
     "iopub.status.busy": "2020-12-19T15:50:29.255546Z",
     "iopub.status.idle": "2020-12-19T15:50:29.268919Z",
     "shell.execute_reply": "2020-12-19T15:50:29.267027Z",
     "shell.execute_reply.started": "2020-12-19T15:50:29.255799Z"
    }
   },
   "outputs": [
    {
     "name": "stderr",
     "output_type": "stream",
     "text": [
      "/home/afsm/git/tmp/fake-news-detection/.venv/lib/python3.7/site-packages/ipykernel/ipkernel.py:287: DeprecationWarning: `should_run_async` will not call `transform_cell` automatically in the future. Please pass the result to `transformed_cell` argument and any exception that happen during thetransform in `preprocessing_exc_tuple` in IPython 7.17 and above.\n",
      "  and should_run_async(code)\n"
     ]
    }
   ],
   "source": [
    "infos = mlflow.list_run_infos('0')\n",
    "info = infos[0]"
   ]
  },
  {
   "cell_type": "code",
   "execution_count": 58,
   "metadata": {
    "execution": {
     "iopub.execute_input": "2020-12-19T15:56:13.125035Z",
     "iopub.status.busy": "2020-12-19T15:56:13.123868Z",
     "iopub.status.idle": "2020-12-19T15:56:13.200717Z",
     "shell.execute_reply": "2020-12-19T15:56:13.198827Z",
     "shell.execute_reply.started": "2020-12-19T15:56:13.124879Z"
    }
   },
   "outputs": [
    {
     "name": "stderr",
     "output_type": "stream",
     "text": [
      "/home/afsm/git/tmp/fake-news-detection/.venv/lib/python3.7/site-packages/ipykernel/ipkernel.py:287: DeprecationWarning: `should_run_async` will not call `transform_cell` automatically in the future. Please pass the result to `transformed_cell` argument and any exception that happen during thetransform in `preprocessing_exc_tuple` in IPython 7.17 and above.\n",
      "  and should_run_async(code)\n"
     ]
    },
    {
     "data": {
      "text/html": [
       "<div>\n",
       "<style scoped>\n",
       "    .dataframe tbody tr th:only-of-type {\n",
       "        vertical-align: middle;\n",
       "    }\n",
       "\n",
       "    .dataframe tbody tr th {\n",
       "        vertical-align: top;\n",
       "    }\n",
       "\n",
       "    .dataframe thead th {\n",
       "        text-align: right;\n",
       "    }\n",
       "</style>\n",
       "<table border=\"1\" class=\"dataframe\">\n",
       "  <thead>\n",
       "    <tr style=\"text-align: right;\">\n",
       "      <th></th>\n",
       "      <th>run_uuid</th>\n",
       "      <th>run_id</th>\n",
       "      <th>experiment_id</th>\n",
       "      <th>user_id</th>\n",
       "      <th>status</th>\n",
       "      <th>start_time</th>\n",
       "      <th>end_time</th>\n",
       "      <th>lifecycle_stage</th>\n",
       "      <th>artifact_uri</th>\n",
       "    </tr>\n",
       "  </thead>\n",
       "  <tbody>\n",
       "    <tr>\n",
       "      <th>0</th>\n",
       "      <td>054ef7280e09494081866fd90130f1b4</td>\n",
       "      <td>054ef7280e09494081866fd90130f1b4</td>\n",
       "      <td>0</td>\n",
       "      <td>afsm</td>\n",
       "      <td>FINISHED</td>\n",
       "      <td>1608392103834</td>\n",
       "      <td>1608392121581</td>\n",
       "      <td>active</td>\n",
       "      <td>./mlruns/0/054ef7280e09494081866fd90130f1b4/ar...</td>\n",
       "    </tr>\n",
       "    <tr>\n",
       "      <th>1</th>\n",
       "      <td>43508605c1a443639a3f8d87d424e3d3</td>\n",
       "      <td>43508605c1a443639a3f8d87d424e3d3</td>\n",
       "      <td>0</td>\n",
       "      <td>afsm</td>\n",
       "      <td>FINISHED</td>\n",
       "      <td>1608392087685</td>\n",
       "      <td>1608392103708</td>\n",
       "      <td>active</td>\n",
       "      <td>./mlruns/0/43508605c1a443639a3f8d87d424e3d3/ar...</td>\n",
       "    </tr>\n",
       "  </tbody>\n",
       "</table>\n",
       "</div>"
      ],
      "text/plain": [
       "                           run_uuid                            run_id  \\\n",
       "0  054ef7280e09494081866fd90130f1b4  054ef7280e09494081866fd90130f1b4   \n",
       "1  43508605c1a443639a3f8d87d424e3d3  43508605c1a443639a3f8d87d424e3d3   \n",
       "\n",
       "  experiment_id user_id    status     start_time       end_time  \\\n",
       "0             0    afsm  FINISHED  1608392103834  1608392121581   \n",
       "1             0    afsm  FINISHED  1608392087685  1608392103708   \n",
       "\n",
       "  lifecycle_stage                                       artifact_uri  \n",
       "0          active  ./mlruns/0/054ef7280e09494081866fd90130f1b4/ar...  \n",
       "1          active  ./mlruns/0/43508605c1a443639a3f8d87d424e3d3/ar...  "
      ]
     },
     "execution_count": 58,
     "metadata": {},
     "output_type": "execute_result"
    }
   ],
   "source": [
    "pd.DataFrame([{ k[1:]: v for k, v in info.__dict__.items() } for info in infos])"
   ]
  },
  {
   "cell_type": "code",
   "execution_count": 60,
   "metadata": {
    "execution": {
     "iopub.execute_input": "2020-12-19T15:57:43.953818Z",
     "iopub.status.busy": "2020-12-19T15:57:43.953558Z",
     "iopub.status.idle": "2020-12-19T15:57:45.360653Z",
     "shell.execute_reply": "2020-12-19T15:57:45.359784Z",
     "shell.execute_reply.started": "2020-12-19T15:57:43.953789Z"
    }
   },
   "outputs": [],
   "source": [
    "model = mlflow.sklearn.load_model(os.path.join(info.artifact_uri, 'model'))"
   ]
  },
  {
   "cell_type": "code",
   "execution_count": 74,
   "metadata": {
    "execution": {
     "iopub.execute_input": "2020-12-19T15:59:51.169120Z",
     "iopub.status.busy": "2020-12-19T15:59:51.168287Z",
     "iopub.status.idle": "2020-12-19T15:59:51.197355Z",
     "shell.execute_reply": "2020-12-19T15:59:51.193076Z",
     "shell.execute_reply.started": "2020-12-19T15:59:51.169018Z"
    }
   },
   "outputs": [
    {
     "data": {
      "text/plain": [
       "array(['fake'], dtype=object)"
      ]
     },
     "execution_count": 74,
     "metadata": {},
     "output_type": "execute_result"
    }
   ],
   "source": [
    "model.predict(['''como a deputada estadual, apalpada por um colega no plenário da Assembleia Legislativa de São Paulo, outras quatro deputadas federais relataram à Folha que já foram assediadas no exercício de suas funções.\n",
    "\n",
    "As mulheres representam 15% dos integrantes da Câmara dos Deputados, composta em sua maioria por homens brancos.\n",
    "\n",
    "No Código Penal, os fatos narrados poderiam ser enquadrados como importunação sexual, crime que prevê de um a cinco anos de reclusão.\n",
    "\n",
    "Isa Penna (PSOL) registrou um boletim de ocorrência contra o deputado Fernando Cury (Cidadania) e também levou ao Conselho de Ética da Assembleia uma representação pedindo que ele perca o mandato.'''])"
   ]
  },
  {
   "cell_type": "code",
   "execution_count": 24,
   "metadata": {},
   "outputs": [],
   "source": [
    "def resultsPerCategory(ypred):\n",
    "    for category in test.category.unique():\n",
    "        print('========', category, '========')\n",
    "        print(classification_report(test.label[test.category == category], ypred[test.category == category]))"
   ]
  },
  {
   "cell_type": "code",
   "execution_count": 27,
   "metadata": {},
   "outputs": [
    {
     "name": "stdout",
     "output_type": "stream",
     "text": [
      "======== politica ========\n",
      "              precision    recall  f1-score   support\n",
      "\n",
      "        fake       0.91      0.91      0.91       433\n",
      "        true       0.91      0.91      0.91       442\n",
      "\n",
      "    accuracy                           0.91       875\n",
      "   macro avg       0.91      0.91      0.91       875\n",
      "weighted avg       0.91      0.91      0.91       875\n",
      "\n",
      "======== sociedade_cotidiano ========\n",
      "              precision    recall  f1-score   support\n",
      "\n",
      "        fake       0.87      0.89      0.88       130\n",
      "        true       0.91      0.89      0.90       153\n",
      "\n",
      "    accuracy                           0.89       283\n",
      "   macro avg       0.89      0.89      0.89       283\n",
      "weighted avg       0.89      0.89      0.89       283\n",
      "\n",
      "======== tv_celebridades ========\n",
      "              precision    recall  f1-score   support\n",
      "\n",
      "        fake       0.92      0.90      0.91       177\n",
      "        true       0.89      0.91      0.90       151\n",
      "\n",
      "    accuracy                           0.91       328\n",
      "   macro avg       0.90      0.91      0.91       328\n",
      "weighted avg       0.91      0.91      0.91       328\n",
      "\n",
      "======== ciencia_tecnologia ========\n",
      "              precision    recall  f1-score   support\n",
      "\n",
      "        fake       1.00      0.77      0.87        13\n",
      "        true       0.80      1.00      0.89        12\n",
      "\n",
      "    accuracy                           0.88        25\n",
      "   macro avg       0.90      0.88      0.88        25\n",
      "weighted avg       0.90      0.88      0.88        25\n",
      "\n",
      "======== religiao ========\n",
      "              precision    recall  f1-score   support\n",
      "\n",
      "        fake       1.00      0.50      0.67         2\n",
      "        true       0.88      1.00      0.93         7\n",
      "\n",
      "    accuracy                           0.89         9\n",
      "   macro avg       0.94      0.75      0.80         9\n",
      "weighted avg       0.90      0.89      0.87         9\n",
      "\n",
      "======== economia ========\n",
      "              precision    recall  f1-score   support\n",
      "\n",
      "        fake       1.00      0.71      0.83         7\n",
      "        true       0.60      1.00      0.75         3\n",
      "\n",
      "    accuracy                           0.80        10\n",
      "   macro avg       0.80      0.86      0.79        10\n",
      "weighted avg       0.88      0.80      0.81        10\n",
      "\n"
     ]
    }
   ],
   "source": [
    "resultsPerCategory(ypred2)"
   ]
  },
  {
   "cell_type": "code",
   "execution_count": 28,
   "metadata": {},
   "outputs": [
    {
     "data": {
      "text/plain": [
       "politica               875\n",
       "tv_celebridades        328\n",
       "sociedade_cotidiano    283\n",
       "ciencia_tecnologia      25\n",
       "economia                10\n",
       "religiao                 9\n",
       "Name: category, dtype: int64"
      ]
     },
     "execution_count": 28,
     "metadata": {},
     "output_type": "execute_result"
    }
   ],
   "source": [
    "test.category.value_counts()"
   ]
  },
  {
   "cell_type": "code",
   "execution_count": 30,
   "metadata": {},
   "outputs": [
    {
     "name": "stderr",
     "output_type": "stream",
     "text": [
      "/home/afsm/git/tmp/fake-news-detection/.venv/lib/python3.7/site-packages/ipykernel/ipkernel.py:287: DeprecationWarning: `should_run_async` will not call `transform_cell` automatically in the future. Please pass the result to `transformed_cell` argument and any exception that happen during thetransform in `preprocessing_exc_tuple` in IPython 7.17 and above.\n",
      "  and should_run_async(code)\n"
     ]
    }
   ],
   "source": [
    "import mlflow\n",
    "import modellogger"
   ]
  },
  {
   "cell_type": "code",
   "execution_count": null,
   "metadata": {},
   "outputs": [],
   "source": [
    "mlflow.end_run"
   ]
  },
  {
   "cell_type": "code",
   "execution_count": 32,
   "metadata": {},
   "outputs": [
    {
     "name": "stderr",
     "output_type": "stream",
     "text": [
      "/home/afsm/git/tmp/fake-news-detection/.venv/lib/python3.7/site-packages/ipykernel/ipkernel.py:287: DeprecationWarning: `should_run_async` will not call `transform_cell` automatically in the future. Please pass the result to `transformed_cell` argument and any exception that happen during thetransform in `preprocessing_exc_tuple` in IPython 7.17 and above.\n",
      "  and should_run_async(code)\n"
     ]
    },
    {
     "name": "stdout",
     "output_type": "stream",
     "text": [
      "Setup Completed \n"
     ]
    }
   ],
   "source": [
    "from modellogger.modellogger import ModelLogger\n",
    "\n",
    "#initialise a modelloger instance\n",
    "path = \"./databasename.db\"\n",
    "mlog = ModelLogger(path) #setup complete"
   ]
  },
  {
   "cell_type": "code",
   "execution_count": 34,
   "metadata": {},
   "outputs": [
    {
     "name": "stdout",
     "output_type": "stream",
     "text": [
      "Model is not compatable with Modelloger - /n consult the help() section \n"
     ]
    },
    {
     "name": "stderr",
     "output_type": "stream",
     "text": [
      "/home/afsm/git/tmp/fake-news-detection/.venv/lib/python3.7/site-packages/modellogger/modellogger.py:128: UserWarning: Model Unparseable Error - possible reasons /n 1. Passed object is not a model /n 2.Model is not fitted /nModel is not compatable with modelloger /n Check the docs to know more\n",
      "  warnings.warn(\"Model Unparseable Error - possible reasons /n 1. Passed object is not a model /n 2.Model is not fitted /nModel is not compatable with modelloger /n Check the docs to know more\")\n"
     ]
    },
    {
     "ename": "AttributeError",
     "evalue": "columns not found",
     "output_type": "error",
     "traceback": [
      "\u001b[0;31m---------------------------------------------------------------------------\u001b[0m",
      "\u001b[0;31mAttributeError\u001b[0m                            Traceback (most recent call last)",
      "\u001b[0;32m<ipython-input-34-aa6afd1aebbe>\u001b[0m in \u001b[0;36m<module>\u001b[0;34m\u001b[0m\n\u001b[0;32m----> 1\u001b[0;31m \u001b[0mmlog\u001b[0m\u001b[0;34m.\u001b[0m\u001b[0mstore_model\u001b[0m\u001b[0;34m(\u001b[0m\u001b[0mclf1\u001b[0m\u001b[0;34m,\u001b[0m \u001b[0;34m'SVC'\u001b[0m\u001b[0;34m,\u001b[0m \u001b[0mX\u001b[0m\u001b[0;34m,\u001b[0m \u001b[0;36m0.9562091503267974\u001b[0m\u001b[0;34m)\u001b[0m\u001b[0;34m\u001b[0m\u001b[0;34m\u001b[0m\u001b[0m\n\u001b[0m",
      "\u001b[0;32m~/git/tmp/fake-news-detection/.venv/lib/python3.7/site-packages/modellogger/modellogger.py\u001b[0m in \u001b[0;36mstore_model\u001b[0;34m(self, model_name, model, X_train, val_score, test_score, save_pickle, Flag)\u001b[0m\n\u001b[1;32m    208\u001b[0m \t\t'''\n\u001b[1;32m    209\u001b[0m                 \u001b[0mself\u001b[0m\u001b[0;34m.\u001b[0m\u001b[0m__model_extractor\u001b[0m\u001b[0;34m(\u001b[0m\u001b[0mmodel\u001b[0m\u001b[0;34m,\u001b[0m\u001b[0msave_pickle\u001b[0m\u001b[0;34m,\u001b[0m\u001b[0mmodel_name\u001b[0m\u001b[0;34m)\u001b[0m\u001b[0;34m\u001b[0m\u001b[0;34m\u001b[0m\u001b[0m\n\u001b[0;32m--> 210\u001b[0;31m                 \u001b[0mtemp_shape\u001b[0m \u001b[0;34m=\u001b[0m \u001b[0mself\u001b[0m\u001b[0;34m.\u001b[0m\u001b[0m__likely_cat_cont\u001b[0m\u001b[0;34m(\u001b[0m\u001b[0mX_train\u001b[0m\u001b[0;34m)\u001b[0m\u001b[0;34m\u001b[0m\u001b[0;34m\u001b[0m\u001b[0m\n\u001b[0m\u001b[1;32m    211\u001b[0m                 \u001b[0mself\u001b[0m\u001b[0;34m.\u001b[0m\u001b[0m__features\u001b[0m \u001b[0;34m=\u001b[0m \u001b[0mstr\u001b[0m\u001b[0;34m(\u001b[0m\u001b[0mlist\u001b[0m\u001b[0;34m(\u001b[0m\u001b[0mX_train\u001b[0m\u001b[0;34m.\u001b[0m\u001b[0mcolumns\u001b[0m\u001b[0;34m)\u001b[0m\u001b[0;34m)\u001b[0m\u001b[0;34m\u001b[0m\u001b[0;34m\u001b[0m\u001b[0m\n\u001b[1;32m    212\u001b[0m                 \u001b[0mself\u001b[0m\u001b[0;34m.\u001b[0m\u001b[0m__conn\u001b[0m \u001b[0;34m=\u001b[0m \u001b[0mself\u001b[0m\u001b[0;34m.\u001b[0m\u001b[0m__create_connection\u001b[0m\u001b[0;34m(\u001b[0m\u001b[0;34m)\u001b[0m\u001b[0;34m\u001b[0m\u001b[0;34m\u001b[0m\u001b[0m\n",
      "\u001b[0;32m~/git/tmp/fake-news-detection/.venv/lib/python3.7/site-packages/modellogger/modellogger.py\u001b[0m in \u001b[0;36m__likely_cat_cont\u001b[0;34m(self, main_dataa)\u001b[0m\n\u001b[1;32m     93\u001b[0m             \u001b[0mlikely_cont\u001b[0m \u001b[0;34m=\u001b[0m \u001b[0;34m[\u001b[0m\u001b[0;34m]\u001b[0m\u001b[0;34m\u001b[0m\u001b[0;34m\u001b[0m\u001b[0m\n\u001b[1;32m     94\u001b[0m             \u001b[0mshape\u001b[0m \u001b[0;34m=\u001b[0m \u001b[0;34m[\u001b[0m\u001b[0;34m]\u001b[0m\u001b[0;34m\u001b[0m\u001b[0;34m\u001b[0m\u001b[0m\n\u001b[0;32m---> 95\u001b[0;31m             \u001b[0;32mfor\u001b[0m \u001b[0mvar\u001b[0m \u001b[0;32min\u001b[0m \u001b[0mmain_dataa\u001b[0m\u001b[0;34m.\u001b[0m\u001b[0mcolumns\u001b[0m\u001b[0;34m:\u001b[0m\u001b[0;34m\u001b[0m\u001b[0;34m\u001b[0m\u001b[0m\n\u001b[0m\u001b[1;32m     96\u001b[0m                 \u001b[0;32mif\u001b[0m \u001b[0;34m(\u001b[0m\u001b[0mmain_dataa\u001b[0m\u001b[0;34m[\u001b[0m\u001b[0mvar\u001b[0m\u001b[0;34m]\u001b[0m\u001b[0;34m.\u001b[0m\u001b[0mnunique\u001b[0m\u001b[0;34m(\u001b[0m\u001b[0;34m)\u001b[0m\u001b[0;34m/\u001b[0m\u001b[0mmain_dataa\u001b[0m\u001b[0;34m[\u001b[0m\u001b[0mvar\u001b[0m\u001b[0;34m]\u001b[0m\u001b[0;34m.\u001b[0m\u001b[0mcount\u001b[0m\u001b[0;34m(\u001b[0m\u001b[0;34m)\u001b[0m \u001b[0;34m<\u001b[0m \u001b[0;36m0.5\u001b[0m\u001b[0;34m)\u001b[0m\u001b[0;34m:\u001b[0m\u001b[0;34m\u001b[0m\u001b[0;34m\u001b[0m\u001b[0m\n\u001b[1;32m     97\u001b[0m                     \u001b[0mlikely_cat\u001b[0m\u001b[0;34m.\u001b[0m\u001b[0mappend\u001b[0m\u001b[0;34m(\u001b[0m\u001b[0mvar\u001b[0m\u001b[0;34m)\u001b[0m\u001b[0;34m\u001b[0m\u001b[0;34m\u001b[0m\u001b[0m\n",
      "\u001b[0;32m~/git/tmp/fake-news-detection/.venv/lib/python3.7/site-packages/scipy/sparse/base.py\u001b[0m in \u001b[0;36m__getattr__\u001b[0;34m(self, attr)\u001b[0m\n\u001b[1;32m    685\u001b[0m             \u001b[0;32mreturn\u001b[0m \u001b[0mself\u001b[0m\u001b[0;34m.\u001b[0m\u001b[0mgetnnz\u001b[0m\u001b[0;34m(\u001b[0m\u001b[0;34m)\u001b[0m\u001b[0;34m\u001b[0m\u001b[0;34m\u001b[0m\u001b[0m\n\u001b[1;32m    686\u001b[0m         \u001b[0;32melse\u001b[0m\u001b[0;34m:\u001b[0m\u001b[0;34m\u001b[0m\u001b[0;34m\u001b[0m\u001b[0m\n\u001b[0;32m--> 687\u001b[0;31m             \u001b[0;32mraise\u001b[0m \u001b[0mAttributeError\u001b[0m\u001b[0;34m(\u001b[0m\u001b[0mattr\u001b[0m \u001b[0;34m+\u001b[0m \u001b[0;34m\" not found\"\u001b[0m\u001b[0;34m)\u001b[0m\u001b[0;34m\u001b[0m\u001b[0;34m\u001b[0m\u001b[0m\n\u001b[0m\u001b[1;32m    688\u001b[0m \u001b[0;34m\u001b[0m\u001b[0m\n\u001b[1;32m    689\u001b[0m     \u001b[0;32mdef\u001b[0m \u001b[0mtranspose\u001b[0m\u001b[0;34m(\u001b[0m\u001b[0mself\u001b[0m\u001b[0;34m,\u001b[0m \u001b[0maxes\u001b[0m\u001b[0;34m=\u001b[0m\u001b[0;32mNone\u001b[0m\u001b[0;34m,\u001b[0m \u001b[0mcopy\u001b[0m\u001b[0;34m=\u001b[0m\u001b[0;32mFalse\u001b[0m\u001b[0;34m)\u001b[0m\u001b[0;34m:\u001b[0m\u001b[0;34m\u001b[0m\u001b[0;34m\u001b[0m\u001b[0m\n",
      "\u001b[0;31mAttributeError\u001b[0m: columns not found"
     ]
    }
   ],
   "source": [
    "mlog.store_model(clf1, 'SVC', X, 0.9562091503267974)"
   ]
  },
  {
   "cell_type": "code",
   "execution_count": 28,
   "metadata": {
    "execution": {
     "iopub.execute_input": "2020-12-13T22:14:59.583108Z",
     "iopub.status.busy": "2020-12-13T22:14:59.581915Z",
     "iopub.status.idle": "2020-12-13T22:15:09.123387Z",
     "shell.execute_reply": "2020-12-13T22:15:09.122296Z",
     "shell.execute_reply.started": "2020-12-13T22:14:59.583035Z"
    }
   },
   "outputs": [
    {
     "data": {
      "text/plain": [
       "<4590x1000 sparse matrix of type '<class 'numpy.float64'>'\n",
       "\twith 690534 stored elements in Compressed Sparse Row format>"
      ]
     },
     "execution_count": 28,
     "metadata": {},
     "output_type": "execute_result"
    }
   ],
   "source": [
    "tfidf.transform(train.text)"
   ]
  },
  {
   "cell_type": "markdown",
   "metadata": {},
   "source": [
    "---"
   ]
  },
  {
   "cell_type": "code",
   "execution_count": 54,
   "metadata": {},
   "outputs": [],
   "source": [
    "testNumWords = test.text.apply(lambda text: len(preprocess(text).split())).values"
   ]
  },
  {
   "cell_type": "code",
   "execution_count": 73,
   "metadata": {},
   "outputs": [],
   "source": [
    "binYpred = np.where(ypred2 == 'fake', 1, 0)\n",
    "binYtrue = np.where(test.label == 'fake', 1, 0)"
   ]
  },
  {
   "cell_type": "code",
   "execution_count": 66,
   "metadata": {},
   "outputs": [],
   "source": [
    "proba2 = clf2.predict_proba(X_test)"
   ]
  },
  {
   "cell_type": "code",
   "execution_count": 96,
   "metadata": {},
   "outputs": [],
   "source": [
    "df = pd.DataFrame({'pred': binYpred, 'true':binYtrue, 'wordCount':testNumWords})\n",
    "# df = pd.DataFrame({'pred':ypred2, 'true':test.label, 'wordCount':testNumWords})\n",
    "df0 = df[df.true == 0]\n",
    "df1 = df[df.true == 1]"
   ]
  },
  {
   "cell_type": "code",
   "execution_count": 105,
   "metadata": {},
   "outputs": [
    {
     "data": {
      "text/plain": [
       "<matplotlib.collections.PathCollection at 0x7f4ead473f98>"
      ]
     },
     "execution_count": 105,
     "metadata": {},
     "output_type": "execute_result"
    },
    {
     "data": {
      "image/png": "[encoded data removed]",
      "text/plain": [
       "<Figure size 432x288 with 1 Axes>"
      ]
     },
     "metadata": {
      "needs_background": "light"
     },
     "output_type": "display_data"
    }
   ],
   "source": [
    "# plt.scatter(testNumWords, proba2.T[0])\n",
    "# plt.scatter(testNumWords, binYtrue)\n",
    "plt.scatter(df.wordCount, df.true - df.pred)"
   ]
  },
  {
   "cell_type": "code",
   "execution_count": 106,
   "metadata": {},
   "outputs": [
    {
     "data": {
      "text/plain": [
       "<matplotlib.collections.PathCollection at 0x7f4ead2c05f8>"
      ]
     },
     "execution_count": 106,
     "metadata": {},
     "output_type": "execute_result"
    },
    {
     "data": {
      "image/png": "[encoded data removed]",
      "text/plain": [
       "<Figure size 432x288 with 1 Axes>"
      ]
     },
     "metadata": {
      "needs_background": "light"
     },
     "output_type": "display_data"
    }
   ],
   "source": [
    "plt.scatter(df0.wordCount, df0.true - df0.pred, alpha=0.4, c='g')\n",
    "plt.scatter(df1.wordCount, df1.true - df1.pred, alpha=0.4, c='r')"
   ]
  },
  {
   "cell_type": "code",
   "execution_count": null,
   "metadata": {},
   "outputs": [],
   "source": []
  }
 ],
 "metadata": {
  "kernelspec": {
   "display_name": "Python 3",
   "language": "python",
   "name": "python3"
  },
  "language_info": {
   "codemirror_mode": {
    "name": "ipython",
    "version": 3
   },
   "file_extension": ".py",
   "mimetype": "text/x-python",
   "name": "python",
   "nbconvert_exporter": "python",
   "pygments_lexer": "ipython3",
   "version": "3.7.6"
  }
 },
 "nbformat": 4,
 "nbformat_minor": 4
}
