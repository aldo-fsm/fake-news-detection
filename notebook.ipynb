{
 "cells": [
  {
   "cell_type": "code",
   "execution_count": 46,
   "metadata": {},
   "outputs": [],
   "source": [
    "import pandas as pd\n",
    "import numpy as np\n",
    "from matplotlib import pyplot as plt\n",
    "import re\n",
    "from sklearn.model_selection import train_test_split"
   ]
  },
  {
   "cell_type": "code",
   "execution_count": 2,
   "metadata": {},
   "outputs": [],
   "source": [
    "dataset_path = 'datasets/fake-br-corpus/full_texts.csv'"
   ]
  },
  {
   "cell_type": "code",
   "execution_count": 3,
   "metadata": {},
   "outputs": [],
   "source": [
    "dataset = pd.read_csv(dataset_path)"
   ]
  },
  {
   "cell_type": "code",
   "execution_count": 4,
   "metadata": {},
   "outputs": [
    {
     "data": {
      "text/plain": [
       "fake    3600\n",
       "true    3600\n",
       "Name: label, dtype: int64"
      ]
     },
     "execution_count": 4,
     "metadata": {},
     "output_type": "execute_result"
    }
   ],
   "source": [
    "dataset.label.value_counts()"
   ]
  },
  {
   "cell_type": "code",
   "execution_count": 11,
   "metadata": {},
   "outputs": [
    {
     "name": "stdout",
     "output_type": "stream",
     "text": [
      "======== politica ========\n",
      "fake    2090\n",
      "true    2090\n",
      "Name: label, dtype: int64\n",
      "======== sociedade_cotidiano ========\n",
      "fake    638\n",
      "true    638\n",
      "Name: label, dtype: int64\n",
      "======== tv_celebridades ========\n",
      "fake    772\n",
      "true    772\n",
      "Name: label, dtype: int64\n",
      "======== ciencia_tecnologia ========\n",
      "fake    56\n",
      "true    56\n",
      "Name: label, dtype: int64\n",
      "======== religiao ========\n",
      "true    22\n",
      "fake    22\n",
      "Name: label, dtype: int64\n",
      "======== economia ========\n",
      "true    22\n",
      "fake    22\n",
      "Name: label, dtype: int64\n"
     ]
    }
   ],
   "source": [
    "for category in dataset.category.unique():\n",
    "    print('========', category, '========')\n",
    "    print(dataset[dataset.category == category].label.value_counts())"
   ]
  },
  {
   "cell_type": "code",
   "execution_count": 5,
   "metadata": {},
   "outputs": [],
   "source": [
    "train, test = train_test_split(dataset, test_size=0.25, stratify=dataset.label)"
   ]
  },
  {
   "cell_type": "code",
   "execution_count": 6,
   "metadata": {},
   "outputs": [
    {
     "data": {
      "text/plain": [
       "fake    2700\n",
       "true    2700\n",
       "Name: label, dtype: int64"
      ]
     },
     "execution_count": 6,
     "metadata": {},
     "output_type": "execute_result"
    }
   ],
   "source": [
    "train.label.value_counts()"
   ]
  },
  {
   "cell_type": "code",
   "execution_count": 7,
   "metadata": {},
   "outputs": [
    {
     "data": {
      "text/plain": [
       "fake    900\n",
       "true    900\n",
       "Name: label, dtype: int64"
      ]
     },
     "execution_count": 7,
     "metadata": {},
     "output_type": "execute_result"
    }
   ],
   "source": [
    "test.label.value_counts()"
   ]
  },
  {
   "cell_type": "code",
   "execution_count": 8,
   "metadata": {},
   "outputs": [
    {
     "data": {
      "text/plain": [
       "politica               4180\n",
       "tv_celebridades        1544\n",
       "sociedade_cotidiano    1276\n",
       "ciencia_tecnologia      112\n",
       "religiao                 44\n",
       "economia                 44\n",
       "Name: category, dtype: int64"
      ]
     },
     "execution_count": 8,
     "metadata": {},
     "output_type": "execute_result"
    }
   ],
   "source": [
    "dataset.category.value_counts()"
   ]
  },
  {
   "cell_type": "markdown",
   "metadata": {},
   "source": [
    "# Preprocessing"
   ]
  },
  {
   "cell_type": "code",
   "execution_count": 14,
   "metadata": {},
   "outputs": [],
   "source": [
    "import spacy\n",
    "from spacy.lang.pt import STOP_WORDS"
   ]
  },
  {
   "cell_type": "code",
   "execution_count": 15,
   "metadata": {},
   "outputs": [],
   "source": [
    "nlp = spacy.load('pt')\n",
    "def lemmatize(text):\n",
    "    global tokens\n",
    "    tokens = nlp(text)\n",
    "    lemmas = [token.lemma_ for token in tokens]\n",
    "    return ' '.join(lemmas)\n",
    "\n",
    "def cleanText(text):\n",
    "    text = re.sub(r'[0-9\"\\(\\)\\,\\:]+', ' ', text)\n",
    "    text = re.sub(r'[\\n ]+', ' ', text)\n",
    "    text = text.lower()\n",
    "    return text\n",
    "\n",
    "def preprocess(text):\n",
    "#     text = lemmatize(text)\n",
    "    text = cleanText(text)\n",
    "    return text"
   ]
  },
  {
   "cell_type": "markdown",
   "metadata": {},
   "source": [
    "# Feature extraction"
   ]
  },
  {
   "cell_type": "code",
   "execution_count": 16,
   "metadata": {},
   "outputs": [],
   "source": [
    "from sklearn.feature_extraction.text import TfidfVectorizer"
   ]
  },
  {
   "cell_type": "code",
   "execution_count": 18,
   "metadata": {},
   "outputs": [],
   "source": [
    "tfidf = TfidfVectorizer(\n",
    "    preprocessor=preprocess,\n",
    "    ngram_range=(1,3),\n",
    "    max_features=1000\n",
    ")"
   ]
  },
  {
   "cell_type": "code",
   "execution_count": 19,
   "metadata": {},
   "outputs": [],
   "source": [
    "X = tfidf.fit_transform(train.text)"
   ]
  },
  {
   "cell_type": "markdown",
   "metadata": {},
   "source": [
    "# Classification"
   ]
  },
  {
   "cell_type": "code",
   "execution_count": 20,
   "metadata": {},
   "outputs": [],
   "source": [
    "from sklearn.svm import SVC\n",
    "from sklearn.tree import DecisionTreeClassifier"
   ]
  },
  {
   "cell_type": "code",
   "execution_count": 21,
   "metadata": {},
   "outputs": [
    {
     "name": "stderr",
     "output_type": "stream",
     "text": [
      "/home/aldo/anaconda3/lib/python3.7/site-packages/sklearn/svm/base.py:196: FutureWarning: The default value of gamma will change from 'auto' to 'scale' in version 0.22 to account better for unscaled features. Set gamma explicitly to 'auto' or 'scale' to avoid this warning.\n",
      "  \"avoid this warning.\", FutureWarning)\n"
     ]
    },
    {
     "data": {
      "text/plain": [
       "SVC(C=1.0, cache_size=200, class_weight=None, coef0=0.0,\n",
       "  decision_function_shape='ovr', degree=3, gamma='auto_deprecated',\n",
       "  kernel='rbf', max_iter=-1, probability=False, random_state=None,\n",
       "  shrinking=True, tol=0.001, verbose=False)"
      ]
     },
     "execution_count": 21,
     "metadata": {},
     "output_type": "execute_result"
    }
   ],
   "source": [
    "clf1 = SVC()\n",
    "clf1.fit(X, train.label)"
   ]
  },
  {
   "cell_type": "code",
   "execution_count": 25,
   "metadata": {},
   "outputs": [
    {
     "data": {
      "text/plain": [
       "DecisionTreeClassifier(class_weight=None, criterion='gini', max_depth=None,\n",
       "            max_features=None, max_leaf_nodes=None,\n",
       "            min_impurity_decrease=0.0, min_impurity_split=None,\n",
       "            min_samples_leaf=1, min_samples_split=2,\n",
       "            min_weight_fraction_leaf=0.0, presort=False, random_state=None,\n",
       "            splitter='best')"
      ]
     },
     "execution_count": 25,
     "metadata": {},
     "output_type": "execute_result"
    }
   ],
   "source": [
    "clf2 = DecisionTreeClassifier()\n",
    "clf2.fit(X, train.label)"
   ]
  },
  {
   "cell_type": "code",
   "execution_count": 22,
   "metadata": {},
   "outputs": [],
   "source": [
    "X_test = tfidf.transform(test.text)"
   ]
  },
  {
   "cell_type": "code",
   "execution_count": 29,
   "metadata": {},
   "outputs": [],
   "source": [
    "from sklearn.metrics import classification_report, accuracy_score\n",
    "def evaluate(clf):\n",
    "    ypred = clf.predict(X_test)\n",
    "    ytrue = test.label\n",
    "    print(classification_report(ytrue, ypred))\n",
    "    print('accuracy:', accuracy_score(ytrue, ypred))\n",
    "    return ypred"
   ]
  },
  {
   "cell_type": "code",
   "execution_count": 30,
   "metadata": {},
   "outputs": [
    {
     "name": "stdout",
     "output_type": "stream",
     "text": [
      "              precision    recall  f1-score   support\n",
      "\n",
      "        fake       0.93      0.77      0.84       900\n",
      "        true       0.81      0.94      0.87       900\n",
      "\n",
      "   micro avg       0.86      0.86      0.86      1800\n",
      "   macro avg       0.87      0.86      0.86      1800\n",
      "weighted avg       0.87      0.86      0.86      1800\n",
      "\n",
      "accuracy: 0.8561111111111112\n"
     ]
    }
   ],
   "source": [
    "ypred1 = evaluate(clf1)"
   ]
  },
  {
   "cell_type": "code",
   "execution_count": 31,
   "metadata": {},
   "outputs": [
    {
     "name": "stdout",
     "output_type": "stream",
     "text": [
      "              precision    recall  f1-score   support\n",
      "\n",
      "        fake       0.93      0.90      0.91       900\n",
      "        true       0.90      0.93      0.91       900\n",
      "\n",
      "   micro avg       0.91      0.91      0.91      1800\n",
      "   macro avg       0.91      0.91      0.91      1800\n",
      "weighted avg       0.91      0.91      0.91      1800\n",
      "\n",
      "accuracy: 0.9133333333333333\n"
     ]
    }
   ],
   "source": [
    "ypred2 = evaluate(clf2)"
   ]
  },
  {
   "cell_type": "code",
   "execution_count": 32,
   "metadata": {},
   "outputs": [],
   "source": [
    "def resultsPerCategory(ypred):\n",
    "    for category in test.category.unique():\n",
    "        print('========', category, '========')\n",
    "        print(classification_report(test.label[test.category == category], ypred[test.category == category]))"
   ]
  },
  {
   "cell_type": "code",
   "execution_count": 33,
   "metadata": {},
   "outputs": [
    {
     "name": "stdout",
     "output_type": "stream",
     "text": [
      "======== politica ========\n",
      "              precision    recall  f1-score   support\n",
      "\n",
      "        fake       0.93      0.89      0.91       523\n",
      "        true       0.89      0.93      0.91       515\n",
      "\n",
      "   micro avg       0.91      0.91      0.91      1038\n",
      "   macro avg       0.91      0.91      0.91      1038\n",
      "weighted avg       0.91      0.91      0.91      1038\n",
      "\n",
      "======== tv_celebridades ========\n",
      "              precision    recall  f1-score   support\n",
      "\n",
      "        fake       0.94      0.91      0.92       211\n",
      "        true       0.91      0.94      0.92       205\n",
      "\n",
      "   micro avg       0.92      0.92      0.92       416\n",
      "   macro avg       0.92      0.92      0.92       416\n",
      "weighted avg       0.92      0.92      0.92       416\n",
      "\n",
      "======== sociedade_cotidiano ========\n",
      "              precision    recall  f1-score   support\n",
      "\n",
      "        fake       0.91      0.91      0.91       140\n",
      "        true       0.91      0.92      0.92       150\n",
      "\n",
      "   micro avg       0.91      0.91      0.91       290\n",
      "   macro avg       0.91      0.91      0.91       290\n",
      "weighted avg       0.91      0.91      0.91       290\n",
      "\n",
      "======== economia ========\n",
      "              precision    recall  f1-score   support\n",
      "\n",
      "        fake       0.75      0.75      0.75         4\n",
      "        true       0.83      0.83      0.83         6\n",
      "\n",
      "   micro avg       0.80      0.80      0.80        10\n",
      "   macro avg       0.79      0.79      0.79        10\n",
      "weighted avg       0.80      0.80      0.80        10\n",
      "\n",
      "======== ciencia_tecnologia ========\n",
      "              precision    recall  f1-score   support\n",
      "\n",
      "        fake       1.00      1.00      1.00        14\n",
      "        true       1.00      1.00      1.00        17\n",
      "\n",
      "   micro avg       1.00      1.00      1.00        31\n",
      "   macro avg       1.00      1.00      1.00        31\n",
      "weighted avg       1.00      1.00      1.00        31\n",
      "\n",
      "======== religiao ========\n",
      "              precision    recall  f1-score   support\n",
      "\n",
      "        fake       0.78      0.88      0.82         8\n",
      "        true       0.83      0.71      0.77         7\n",
      "\n",
      "   micro avg       0.80      0.80      0.80        15\n",
      "   macro avg       0.81      0.79      0.80        15\n",
      "weighted avg       0.80      0.80      0.80        15\n",
      "\n"
     ]
    }
   ],
   "source": [
    "resultsPerCategory(ypred2)"
   ]
  },
  {
   "cell_type": "code",
   "execution_count": 34,
   "metadata": {},
   "outputs": [
    {
     "data": {
      "text/plain": [
       "politica               1038\n",
       "tv_celebridades         416\n",
       "sociedade_cotidiano     290\n",
       "ciencia_tecnologia       31\n",
       "religiao                 15\n",
       "economia                 10\n",
       "Name: category, dtype: int64"
      ]
     },
     "execution_count": 34,
     "metadata": {},
     "output_type": "execute_result"
    }
   ],
   "source": [
    "test.category.value_counts()"
   ]
  },
  {
   "cell_type": "markdown",
   "metadata": {},
   "source": [
    "---"
   ]
  },
  {
   "cell_type": "code",
   "execution_count": 54,
   "metadata": {},
   "outputs": [],
   "source": [
    "testNumWords = test.text.apply(lambda text: len(preprocess(text).split())).values"
   ]
  },
  {
   "cell_type": "code",
   "execution_count": 73,
   "metadata": {},
   "outputs": [],
   "source": [
    "binYpred = np.where(ypred2 == 'fake', 1, 0)\n",
    "binYtrue = np.where(test.label == 'fake', 1, 0)"
   ]
  },
  {
   "cell_type": "code",
   "execution_count": 66,
   "metadata": {},
   "outputs": [],
   "source": [
    "proba2 = clf2.predict_proba(X_test)"
   ]
  },
  {
   "cell_type": "code",
   "execution_count": 96,
   "metadata": {},
   "outputs": [],
   "source": [
    "df = pd.DataFrame({'pred': binYpred, 'true':binYtrue, 'wordCount':testNumWords})\n",
    "# df = pd.DataFrame({'pred':ypred2, 'true':test.label, 'wordCount':testNumWords})\n",
    "df0 = df[df.true == 0]\n",
    "df1 = df[df.true == 1]"
   ]
  },
  {
   "cell_type": "code",
   "execution_count": 105,
   "metadata": {},
   "outputs": [
    {
     "data": {
      "text/plain": [
       "<matplotlib.collections.PathCollection at 0x7f4ead473f98>"
      ]
     },
     "execution_count": 105,
     "metadata": {},
     "output_type": "execute_result"
    },
    {
     "data": {
      "image/png": "[encoded data removed]",
      "text/plain": [
       "<Figure size 432x288 with 1 Axes>"
      ]
     },
     "metadata": {
      "needs_background": "light"
     },
     "output_type": "display_data"
    }
   ],
   "source": [
    "# plt.scatter(testNumWords, proba2.T[0])\n",
    "# plt.scatter(testNumWords, binYtrue)\n",
    "plt.scatter(df.wordCount, df.true - df.pred)"
   ]
  },
  {
   "cell_type": "code",
   "execution_count": 106,
   "metadata": {},
   "outputs": [
    {
     "data": {
      "text/plain": [
       "<matplotlib.collections.PathCollection at 0x7f4ead2c05f8>"
      ]
     },
     "execution_count": 106,
     "metadata": {},
     "output_type": "execute_result"
    },
    {
     "data": {
      "image/png": "[encoded data removed]",
      "text/plain": [
       "<Figure size 432x288 with 1 Axes>"
      ]
     },
     "metadata": {
      "needs_background": "light"
     },
     "output_type": "display_data"
    }
   ],
   "source": [
    "plt.scatter(df0.wordCount, df0.true - df0.pred, alpha=0.4, c='g')\n",
    "plt.scatter(df1.wordCount, df1.true - df1.pred, alpha=0.4, c='r')"
   ]
  },
  {
   "cell_type": "code",
   "execution_count": 71,
   "metadata": {},
   "outputs": [
    {
     "data": {
      "text/plain": [
       "array([[ 1.        , -0.63340384],\n",
       "       [-0.63340384,  1.        ]])"
      ]
     },
     "execution_count": 71,
     "metadata": {},
     "output_type": "execute_result"
    }
   ],
   "source": [
    "np.corrcoef(testNumWords, proba2.T[0])"
   ]
  },
  {
   "cell_type": "code",
   "execution_count": null,
   "metadata": {},
   "outputs": [],
   "source": []
  }
 ],
 "metadata": {
  "kernelspec": {
   "display_name": "Python 3",
   "language": "python",
   "name": "python3"
  },
  "language_info": {
   "codemirror_mode": {
    "name": "ipython",
    "version": 3
   },
   "file_extension": ".py",
   "mimetype": "text/x-python",
   "name": "python",
   "nbconvert_exporter": "python",
   "pygments_lexer": "ipython3",
   "version": "3.7.3"
  }
 },
 "nbformat": 4,
 "nbformat_minor": 2
}
